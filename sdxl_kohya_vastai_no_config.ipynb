{
 "cells": [
  {
   "cell_type": "code",
   "execution_count": null,
   "id": "aa4d4773-223c-424a-a912-59ca687aa479",
   "metadata": {},
   "outputs": [],
   "source": []
  },
  {
   "attachments": {},
   "cell_type": "markdown",
   "id": "abe6adee",
   "metadata": {},
   "source": [
    "# SDXL Dreambooth training with Kohya Scripts - No config version"
   ]
  },
  {
   "cell_type": "code",
   "execution_count": null,
   "id": "c9888623-b6f4-4bd9-aa2d-e1234345991d",
   "metadata": {},
   "outputs": [],
   "source": [
    "# 1. INSTALL DEPENDENCIES\n",
    "\n",
    "print(\"Installing dependencies - this might take a few minutes...\")\n",
    "%cd sd-scripts\n",
    "!apt-get update -y && apt-get install -y libgl1\n",
    "!pip install torch==2.0.1+cu118 torchvision==0.15.2+cu118 --extra-index-url https://download.pytorch.org/whl/cu118 # no_verify leave this to specify not checking this a verification stage\n",
    "!pip install xformers==0.0.20 bitsandbytes==0.35.0\n",
    "!pip install tensorboard==2.12.3 tensorflow==2.12.0 wheel\n",
    "!pip install protobuf==3.20.3\n",
    "!pip install tensorrt\n",
    "# !pip install --upgrade -r requirements.txt\n",
    "!pip install gdown\n",
    "!pip install accelerate==0.19.0\n",
    "!pip install transformers==4.30.2\n",
    "!pip install diffusers[torch]==0.18.2\n",
    "!pip install ftfy==6.1.1\n",
    "!pip install albumentations==1.3.0\n",
    "!pip install opencv-python==4.7.0.68\n",
    "!pip install einops==0.6.0\n",
    "!pip install pytorch-lightning==1.9.0\n",
    "!pip install bitsandbytes==0.35.0\n",
    "!pip install tensorboard==2.12.0\n",
    "!pip install safetensors==0.3.1\n",
    "!pip install # gradio==3.16.2\n",
    "!pip install altair==4.2.2\n",
    "!pip install easygui==0.98.3\n",
    "!pip install toml==0.10.2\n",
    "!pip install voluptuous==0.13.1\n",
    "!pip install huggingface-hub==0.15.1\n",
    "!pip install invisible-watermark==0.2.0 \n",
    "!pip install open-clip-torch==2.20.0\n",
    "!pip install protobuf==3.20.3\n",
    "!pip install -e .\n",
    "print(\"Finished installing dependencies.\")"
   ]
  },
  {
   "cell_type": "code",
   "execution_count": 2,
   "id": "197e5f03-f37d-4a75-bd3c-b4ffd5b62833",
   "metadata": {},
   "outputs": [],
   "source": [
    "token_word = \"ohwx\"\n",
    "class_word = \"person\"\n",
    "training_repeats = 40"
   ]
  },
  {
   "cell_type": "code",
   "execution_count": 6,
   "id": "5db7f292-afe1-4cdd-b639-edb2d14d6bd9",
   "metadata": {},
   "outputs": [
    {
     "name": "stdout",
     "output_type": "stream",
     "text": [
      "training_images/40_ohwx person already exists.\n",
      "reg_images/1_person Created.\n"
     ]
    }
   ],
   "source": [
    "# creating parent folders\n",
    "import os\n",
    "\n",
    "training_dir = f'training_images/{training_repeats}_{token_word} {class_word}'\n",
    "reg_dir = f'reg_images/1_{class_word}'\n",
    "\n",
    "if os.path.exists(training_dir) == False:\n",
    "  os.makedirs(training_dir)\n",
    "  print(f'{training_dir} Created.')\n",
    "else:\n",
    "  print(f'{training_dir} already exists.')\n",
    "\n",
    "if os.path.exists(reg_dir) == False:\n",
    "  os.makedirs(reg_dir)\n",
    "  print(f'{reg_dir} Created.')\n",
    "else:\n",
    "  print(f'{reg_dir} already exists.')\n",
    "\n",
    "\n",
    "\n"
   ]
  },
  {
   "cell_type": "code",
   "execution_count": 11,
   "id": "02061da7-5923-4b79-ac3b-daa493d20337",
   "metadata": {},
   "outputs": [
    {
     "name": "stdout",
     "output_type": "stream",
     "text": [
      "Downloading...\n",
      "From: https://drive.google.com/uc?id=1BIixbqMYW5-eOvTFC_RaZyWmlnBzey-0\n",
      "To: /workspace/sd-scripts/train.zip\n",
      "100%|██████████████████████████████████████| 16.2M/16.2M [00:00<00:00, 70.8MB/s]\n",
      "/workspace/sd-scripts/training_images/40_ohwx person\n"
     ]
    }
   ],
   "source": [
    "# download training images\n",
    "!gdown 1BIixbqMYW5-eOvTFC_RaZyWmlnBzey-0 -O train.zip\n",
    "\n",
    "# move regs.zip to reg_images folder\n",
    "shutil.move('train.zip', f'{training_dir}')\n",
    "\n",
    "# extract zip contents to current folder and delete zip\n",
    "import zipfile\n",
    "%cd $training_dir\n",
    "with zipfile.ZipFile('train.zip', 'r') as train_ref:\n",
    "    train_ref.extractall()\n",
    "\n",
    "# delete zip\n",
    "!rm train.zip\n"
   ]
  },
  {
   "cell_type": "code",
   "execution_count": 12,
   "id": "a446f2c4-984a-48db-be94-3d0bfba0f57c",
   "metadata": {},
   "outputs": [
    {
     "name": "stdout",
     "output_type": "stream",
     "text": [
      "/workspace/sd-scripts\n",
      "Downloading...\n",
      "From (uriginal): https://drive.google.com/uc?id=1CIqOhLBfzrl5OkvGgbp2XK_njdFh5bMw\n",
      "From (redirected): https://drive.google.com/uc?id=1CIqOhLBfzrl5OkvGgbp2XK_njdFh5bMw&confirm=t&uuid=eb8d09f1-647b-4615-bee0-bddc3b3c1ac5\n",
      "To: /workspace/sd-scripts/regs.zip\n",
      "100%|████████████████████████████████████████| 639M/639M [00:08<00:00, 72.4MB/s]\n",
      "/workspace/sd-scripts/reg_images/1_person\n"
     ]
    }
   ],
   "source": [
    "%cd /workspace/sd-scripts\n",
    "\n",
    "# download regs images\n",
    "!gdown 1CIqOhLBfzrl5OkvGgbp2XK_njdFh5bMw -O regs.zip\n",
    "\n",
    "import shutil\n",
    "# move regs.zip to reg_images folder\n",
    "shutil.move('regs.zip', f'{reg_dir}')\n",
    "\n",
    "# extract zip contents to current folder and delete zip\n",
    "import zipfile\n",
    "%cd $reg_dir\n",
    "with zipfile.ZipFile('regs.zip', 'r') as zip_ref:\n",
    "    zip_ref.extractall()\n",
    "\n",
    "# delete zip\n",
    "!rm regs.zip"
   ]
  },
  {
   "cell_type": "code",
   "execution_count": 7,
   "id": "3c43b30d-afd9-450f-a7fb-e897407c6706",
   "metadata": {},
   "outputs": [
    {
     "name": "stdout",
     "output_type": "stream",
     "text": [
      "/workspace/sd-scripts\n",
      "2023-08-04 12:07:36.513471: I tensorflow/core/platform/cpu_feature_guard.cc:182] This TensorFlow binary is optimized to use available CPU instructions in performance-critical operations.\n",
      "To enable the following instructions: AVX2 FMA, in other operations, rebuild TensorFlow with the appropriate compiler flags.\n",
      "2023-08-04 12:07:37.063887: W tensorflow/compiler/tf2tensorrt/utils/py_utils.cc:38] TF-TRT Warning: Could not find TensorRT\n",
      "accelerate configuration saved at /root/.cache/huggingface/accelerate/default_config.yaml\n"
     ]
    }
   ],
   "source": [
    "# back to parent folder\n",
    "%cd /workspace/sd-scripts\n",
    "\n",
    "# set accelerate config with defaults\n",
    "!accelerate config default --mixed_precision \"bf16\"\n"
   ]
  },
  {
   "cell_type": "code",
   "execution_count": null,
   "id": "75e3acb2-df65-4515-b00e-4d002be7f49f",
   "metadata": {},
   "outputs": [],
   "source": [
    "!accelerate launch --num_cpu_threads_per_process=2 \"./sdxl_train.py\" \\\n",
    "  --pretrained_model_name_or_path=\"stabilityai/stable-diffusion-xl-base-1.0\" \\\n",
    "  --train_data_dir=\"training_images\" \\\n",
    "  --reg_data_dir=\"reg_images\" \\\n",
    "  --output_dir=\"output\" \\\n",
    "  --output_name=\"myProjectName\" \\\n",
    "  --save_model_as=\"safetensors\" \\\n",
    "  --train_batch_size=2 \\\n",
    "  --max_train_steps=2000 \\\n",
    "  --save_every_n_steps=500 \\\n",
    "  --optimizer_type=\"adafactor\" \\\n",
    "  --optimizer_args scale_parameter=False relative_step=False warmup_init=False \\\n",
    "  --xformers \\\n",
    "  --cache_latents \\\n",
    "  --lr_scheduler=\"constant_with_warmup\" \\\n",
    "  --lr_warmup_steps=100 \\\n",
    "  --learning_rate=1e-5 \\\n",
    "  --max_grad_norm=0.0 \\\n",
    "  --train_text_encoder \\\n",
    "  --resolution=\"1024,1024\" \\\n",
    "  --save_precision=\"float\" \\\n",
    "  --save_n_epoch_ratio=1 \\\n",
    "  --max_data_loader_n_workers=1 \\\n",
    "  --persistent_data_loader_workers \\\n",
    "  --mixed_precision=\"bf16\" \\\n",
    "  --full_bf16 \\\n",
    "  --logging_dir=\"logs\" \\\n",
    "  --log_prefix=\"last\" \\\n",
    "  --gradient_checkpointing\n",
    " "
   ]
  },
  {
   "cell_type": "code",
   "execution_count": null,
   "id": "e44072bf-090f-4adf-bece-8f9d3b5db145",
   "metadata": {},
   "outputs": [],
   "source": []
  }
 ],
 "metadata": {
  "kernelspec": {
   "display_name": "Python 3 (ipykernel)",
   "language": "python",
   "name": "python3"
  },
  "language_info": {
   "codemirror_mode": {
    "name": "ipython",
    "version": 3
   },
   "file_extension": ".py",
   "mimetype": "text/x-python",
   "name": "python",
   "nbconvert_exporter": "python",
   "pygments_lexer": "ipython3",
   "version": "3.10.11"
  }
 },
 "nbformat": 4,
 "nbformat_minor": 5
}
